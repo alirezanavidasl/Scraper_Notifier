{
 "cells": [
  {
   "cell_type": "code",
   "execution_count": 3,
   "metadata": {},
   "outputs": [],
   "source": [
    "import json\n",
    "import requests\n",
    "from bs4 import BeautifulSoup\n",
    "\n"
   ]
  },
  {
   "cell_type": "code",
   "execution_count": 25,
   "metadata": {},
   "outputs": [],
   "source": [
    "url = \"https://kamernet.nl/en/for-rent/rooms-amsterdam?radius=5&minSize=9&maxRent=15&listingTypes=2%2C4%2C8&searchview=1\""
   ]
  },
  {
   "cell_type": "code",
   "execution_count": 49,
   "metadata": {},
   "outputs": [],
   "source": [
    "response = requests.get(url)\n",
    "\n",
    "if response.status_code == 200:\n",
    "    soup = BeautifulSoup(response.text, 'html.parser')\n",
    "    items = soup.find_all('a', class_='MuiTypography-root MuiTypography-inherit MuiLink-root MuiLink-underlineNone MuiPaper-root MuiPaper-elevation MuiPaper-rounded MuiPaper-elevation1 MuiCard-root ListingCard_root__xVYYt mui-style-y9ap12')"
   ]
  },
  {
   "cell_type": "code",
   "execution_count": 6,
   "metadata": {},
   "outputs": [],
   "source": [
    "a={\"BOT_TOKEN\":\"6657594803:AAGKv-mGBhbladTw3aHcmWFMar2QnKd59es\"}"
   ]
  },
  {
   "cell_type": "code",
   "execution_count": null,
   "metadata": {},
   "outputs": [],
   "source": [
    "items = soup.find_all('a', class_='MuiTypography-root MuiTypography-inherit MuiLink-root MuiLink-underlineNone MuiPaper-root MuiPaper-elevation MuiPaper-rounded MuiPaper-elevation1 MuiCard-root ListingCard_root__xVYYt mui-style-y9ap12')\n",
    "\n",
    "for item in items:\n",
    "    item_content={}\n",
    "    header_data = item.find('div', class_='item-head').text.strip()\n",
    "    header_data = [header_data.split('  ')[0],*header_data.split('  ')[1].split(\"\\n\")]\n",
    "    for h in header_data:\n",
    "        if 'student' in h.lower():\n",
    "            is_student=True\n",
    "    if not is_student:\n",
    "            time_data = item.find('ul', class_='regi-info').text.strip().split('\\n')\n",
    "            desc = item.find('ul', class_='regi-acm').text.strip().split('\\n')\n",
    "            price = item.find('div', class_='price regularbold').text.strip().split('\\n') \n",
    "            item_content[\"specs\"] = str(header_data)+'\\n'+str(time_data)+'\\n'+str(desc)+'\\n'+str(price)\n",
    "            item_content[\"item_url\"] = item.get('data-url')\n",
    "\n",
    "            self.check_item(item_content)"
   ]
  },
  {
   "cell_type": "code",
   "execution_count": 53,
   "metadata": {},
   "outputs": [
    {
     "data": {
      "text/plain": [
       "'/en/for-rent/apartment-Amsterdam/Pietersbergweg/apartment-2192288'"
      ]
     },
     "execution_count": 53,
     "metadata": {},
     "output_type": "execute_result"
    }
   ],
   "source": [
    "items[0].get('href')"
   ]
  },
  {
   "cell_type": "code",
   "execution_count": 44,
   "metadata": {},
   "outputs": [
    {
     "data": {
      "text/plain": [
       "'Pietersbergweg,Amsterdam60 m²furnishedApartment26 Jan - 1 Jun 2024€1,450/month incl. utilities'"
      ]
     },
     "execution_count": 44,
     "metadata": {},
     "output_type": "execute_result"
    }
   ],
   "source": [
    "items[0].find('div',class_='MuiCardContent-root ListingCard_cardContent__KkyAH mui-style-1qw96cp').text.strip()"
   ]
  },
  {
   "cell_type": "code",
   "execution_count": 7,
   "metadata": {},
   "outputs": [],
   "source": [
    "def get_chat_id(BOT_TOKEN):\n",
    "    api_url = f'https://api.telegram.org/bot{BOT_TOKEN}/getUpdates'\n",
    "    response = requests.get(api_url)\n",
    "    data = response.json()\n",
    "    \n",
    "    for result in data.get('result', []):\n",
    "        if 'message' in result and 'chat' in result['message']:\n",
    "            chat_id = result['message']['chat']['id']\n",
    "            return chat_id\n",
    "\n",
    "    return None"
   ]
  },
  {
   "cell_type": "code",
   "execution_count": 15,
   "metadata": {},
   "outputs": [],
   "source": [
    "b=get_chat_id(a[\"BOT_TOKEN\"])"
   ]
  },
  {
   "cell_type": "code",
   "execution_count": 14,
   "metadata": {},
   "outputs": [
    {
     "data": {
      "text/plain": [
       "77742048"
      ]
     },
     "execution_count": 14,
     "metadata": {},
     "output_type": "execute_result"
    }
   ],
   "source": [
    "b"
   ]
  }
 ],
 "metadata": {
  "kernelspec": {
   "display_name": "Python 3",
   "language": "python",
   "name": "python3"
  },
  "language_info": {
   "codemirror_mode": {
    "name": "ipython",
    "version": 3
   },
   "file_extension": ".py",
   "mimetype": "text/x-python",
   "name": "python",
   "nbconvert_exporter": "python",
   "pygments_lexer": "ipython3",
   "version": "3.12.1"
  }
 },
 "nbformat": 4,
 "nbformat_minor": 2
}
