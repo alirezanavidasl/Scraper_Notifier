{
 "cells": [
  {
   "cell_type": "code",
   "execution_count": 1,
   "metadata": {},
   "outputs": [],
   "source": [
    "import json\n",
    "import requests\n",
    "from bs4 import BeautifulSoup\n",
    "\n"
   ]
  },
  {
   "cell_type": "code",
   "execution_count": 2,
   "metadata": {},
   "outputs": [],
   "source": [
    "url = \"https://www.funda.nl/zoeken/huur?selected_area=%5B%22amsterdam,10km%22%5D&price=%22900-1500%22\""
   ]
  },
  {
   "cell_type": "code",
   "execution_count": 14,
   "metadata": {},
   "outputs": [],
   "source": [
    "headers = {\n",
    "    'accept': '*/*',\n",
    "    'accept-language': 'en-US,en;q=0.9,fa;q=0.8',\n",
    "    'origin': 'https://www.funda.nl',\n",
    "    'referer': 'https://www.funda.nl/',\n",
    "    'sec-ch-ua': '\"Not_A Brand\";v=\"8\", \"Chromium\";v=\"120\", \"Google Chrome\";v=\"120\"',\n",
    "    'sec-ch-ua-mobile': '?0',\n",
    "    'sec-ch-ua-platform': '\"macOS\"',\n",
    "    'sec-fetch-dest': 'empty',\n",
    "    'sec-fetch-mode': 'cors',\n",
    "    'sec-fetch-site': 'cross-site',\n",
    "    'user-agent': 'Mozilla/5.0 (Macintosh; Intel Mac OS X 10_15_7) AppleWebKit/537.36 (KHTML, like Gecko) Chrome/120.0.0.0 Safari/537.36',\n",
    "}"
   ]
  },
  {
   "cell_type": "code",
   "execution_count": 21,
   "metadata": {},
   "outputs": [],
   "source": [
    "response = requests.get(url,headers=headers)\n",
    "\n",
    "if response.status_code == 200:\n",
    "    soup = BeautifulSoup(response.text, 'lxml')\n",
    "    items = soup.find_all('div', class_='sm:flex')"
   ]
  },
  {
   "cell_type": "code",
   "execution_count": 32,
   "metadata": {},
   "outputs": [],
   "source": [
    "items[0].find('div',class_='min-w-0').text\n",
    "\n",
    "property_info = items[0].find('div',class_='min-w-0').text\n",
    "\n",
    "# Split the string into lines and remove empty lines\n",
    "lines = [line.strip() for line in property_info.split('\\n') if line.strip()]\n",
    "\n",
    "# Extracted information\n",
    "address = lines[0]\n",
    "postcode = lines[1]\n",
    "rent = lines[2]\n",
    "area = lines[3]\n",
    "rooms = lines[4]\n",
    "agent = lines[5]"
   ]
  },
  {
   "cell_type": "code",
   "execution_count": 40,
   "metadata": {},
   "outputs": [
    {
     "data": {
      "text/plain": [
       "'https://www.funda.nl/huur/naarden/appartement-42347928-amsterdamsestraatweg-57/'"
      ]
     },
     "execution_count": 40,
     "metadata": {},
     "output_type": "execute_result"
    }
   ],
   "source": [
    "items[0].find('a').get('href')"
   ]
  },
  {
   "cell_type": "code",
   "execution_count": null,
   "metadata": {},
   "outputs": [],
   "source": [
    "a={\"BOT_TOKEN\":\"6657594803:AAGKv-mGBhbladTw3aHcmWFMar2QnKd59es\"}"
   ]
  },
  {
   "cell_type": "code",
   "execution_count": null,
   "metadata": {},
   "outputs": [],
   "source": [
    "for item in items:\n",
    "    item_content={}\n",
    "    header_data = item.find('div', class_='item-head').text.strip()\n",
    "    header_data = [header_data.split('  ')[0],*header_data.split('  ')[1].split(\"\\n\")]\n",
    "    for h in header_data:\n",
    "        if 'student' in h.lower():\n",
    "            is_student=True\n",
    "    if not is_student:\n",
    "            time_data = item.find('ul', class_='regi-info').text.strip().split('\\n')\n",
    "            desc = item.find('ul', class_='regi-acm').text.strip().split('\\n')\n",
    "            price = item.find('div', class_='price regularbold').text.strip().split('\\n') \n",
    "            item_content[\"specs\"] = str(header_data)+'\\n'+str(time_data)+'\\n'+str(desc)+'\\n'+str(price)\n",
    "            item_content[\"item_url\"] = item.get('data-url')\n",
    "\n",
    "            self.check_item(item_content)"
   ]
  },
  {
   "cell_type": "code",
   "execution_count": null,
   "metadata": {},
   "outputs": [],
   "source": [
    "items[0].get('href')"
   ]
  },
  {
   "cell_type": "code",
   "execution_count": null,
   "metadata": {},
   "outputs": [],
   "source": [
    "items[0].find('div',class_='MuiCardContent-root ListingCard_cardContent__KkyAH mui-style-1qw96cp').text.strip()"
   ]
  },
  {
   "cell_type": "code",
   "execution_count": null,
   "metadata": {},
   "outputs": [],
   "source": [
    "def get_chat_id(BOT_TOKEN):\n",
    "    api_url = f'https://api.telegram.org/bot{BOT_TOKEN}/getUpdates'\n",
    "    response = requests.get(api_url)\n",
    "    data = response.json()\n",
    "    \n",
    "    for result in data.get('result', []):\n",
    "        if 'message' in result and 'chat' in result['message']:\n",
    "            chat_id = result['message']['chat']['id']\n",
    "            return chat_id\n",
    "\n",
    "    return None"
   ]
  },
  {
   "cell_type": "code",
   "execution_count": null,
   "metadata": {},
   "outputs": [],
   "source": [
    "b=get_chat_id(a[\"BOT_TOKEN\"])"
   ]
  },
  {
   "cell_type": "code",
   "execution_count": null,
   "metadata": {},
   "outputs": [],
   "source": [
    "b"
   ]
  }
 ],
 "metadata": {
  "kernelspec": {
   "display_name": "Python 3",
   "language": "python",
   "name": "python3"
  },
  "language_info": {
   "codemirror_mode": {
    "name": "ipython",
    "version": 3
   },
   "file_extension": ".py",
   "mimetype": "text/x-python",
   "name": "python",
   "nbconvert_exporter": "python",
   "pygments_lexer": "ipython3",
   "version": "3.12.1"
  }
 },
 "nbformat": 4,
 "nbformat_minor": 2
}
